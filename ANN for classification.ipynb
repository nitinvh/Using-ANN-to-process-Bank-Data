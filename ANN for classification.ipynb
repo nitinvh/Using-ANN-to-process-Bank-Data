{
 "cells": [
  {
   "cell_type": "markdown",
   "metadata": {},
   "source": [
    "# Import Libraries"
   ]
  },
  {
   "cell_type": "code",
   "execution_count": 1,
   "metadata": {},
   "outputs": [],
   "source": [
    "import pandas as pd\n",
    "import numpy as np\n",
    "import tensorflow as tf\n",
    "import matplotlib.pyplot as plt\n",
    "import seaborn as sns\n"
   ]
  },
  {
   "cell_type": "code",
   "execution_count": 2,
   "metadata": {},
   "outputs": [],
   "source": [
    "%matplotlib inline"
   ]
  },
  {
   "cell_type": "markdown",
   "metadata": {},
   "source": [
    "# Import DataSet"
   ]
  },
  {
   "cell_type": "code",
   "execution_count": 3,
   "metadata": {},
   "outputs": [],
   "source": [
    "df = pd.read_csv('Churn_Modelling.csv')\n",
    "X = df.iloc[:,3:-1].values\n",
    "y = df.iloc[:,-1].values"
   ]
  },
  {
   "cell_type": "code",
   "execution_count": 4,
   "metadata": {},
   "outputs": [
    {
     "name": "stdout",
     "output_type": "stream",
     "text": [
      "[[619 'France' 'Female' ... 1 1 101348.88]\n",
      " [608 'Spain' 'Female' ... 0 1 112542.58]\n",
      " [502 'France' 'Female' ... 1 0 113931.57]\n",
      " ...\n",
      " [709 'France' 'Female' ... 0 1 42085.58]\n",
      " [772 'Germany' 'Male' ... 1 0 92888.52]\n",
      " [792 'France' 'Female' ... 1 0 38190.78]] [1 0 1 ... 1 1 0]\n"
     ]
    }
   ],
   "source": [
    "print(X,y)"
   ]
  },
  {
   "cell_type": "markdown",
   "metadata": {},
   "source": [
    "# Data Preprocessing"
   ]
  },
  {
   "cell_type": "markdown",
   "metadata": {},
   "source": [
    "## Applying Label Encoder"
   ]
  },
  {
   "cell_type": "code",
   "execution_count": 5,
   "metadata": {},
   "outputs": [],
   "source": [
    "from sklearn.preprocessing import LabelEncoder\n",
    "le = LabelEncoder()\n",
    "X[:,2] = le.fit_transform(X[:,2])"
   ]
  },
  {
   "cell_type": "code",
   "execution_count": 6,
   "metadata": {},
   "outputs": [
    {
     "data": {
      "text/plain": [
       "array([[619, 'France', 0, ..., 1, 1, 101348.88],\n",
       "       [608, 'Spain', 0, ..., 0, 1, 112542.58],\n",
       "       [502, 'France', 0, ..., 1, 0, 113931.57],\n",
       "       ...,\n",
       "       [709, 'France', 0, ..., 0, 1, 42085.58],\n",
       "       [772, 'Germany', 1, ..., 1, 0, 92888.52],\n",
       "       [792, 'France', 0, ..., 1, 0, 38190.78]], dtype=object)"
      ]
     },
     "execution_count": 6,
     "metadata": {},
     "output_type": "execute_result"
    }
   ],
   "source": [
    "X"
   ]
  },
  {
   "cell_type": "markdown",
   "metadata": {},
   "source": [
    "## Applying One Hot Encoder"
   ]
  },
  {
   "cell_type": "code",
   "execution_count": 7,
   "metadata": {},
   "outputs": [],
   "source": [
    "from sklearn.compose import ColumnTransformer\n",
    "from sklearn.preprocessing import OneHotEncoder\n",
    "ct = ColumnTransformer(transformers=[('encoder',OneHotEncoder(),[1])],remainder='passthrough')\n",
    "X = np.array(ct.fit_transform(X))"
   ]
  },
  {
   "cell_type": "code",
   "execution_count": 8,
   "metadata": {},
   "outputs": [
    {
     "data": {
      "text/plain": [
       "array([[1.0, 0.0, 0.0, ..., 1, 1, 101348.88],\n",
       "       [0.0, 0.0, 1.0, ..., 0, 1, 112542.58],\n",
       "       [1.0, 0.0, 0.0, ..., 1, 0, 113931.57],\n",
       "       ...,\n",
       "       [1.0, 0.0, 0.0, ..., 0, 1, 42085.58],\n",
       "       [0.0, 1.0, 0.0, ..., 1, 0, 92888.52],\n",
       "       [1.0, 0.0, 0.0, ..., 1, 0, 38190.78]], dtype=object)"
      ]
     },
     "execution_count": 8,
     "metadata": {},
     "output_type": "execute_result"
    }
   ],
   "source": [
    "X"
   ]
  },
  {
   "cell_type": "markdown",
   "metadata": {},
   "source": [
    "\n",
    "## Split data set into training and test set"
   ]
  },
  {
   "cell_type": "code",
   "execution_count": 9,
   "metadata": {},
   "outputs": [],
   "source": [
    "from sklearn.model_selection import train_test_split\n",
    "X_train,X_test,y_train,y_test = train_test_split(X,y,test_size = 0.20,random_state = 0)"
   ]
  },
  {
   "cell_type": "markdown",
   "metadata": {},
   "source": [
    "## Feature Scaling"
   ]
  },
  {
   "cell_type": "code",
   "execution_count": 10,
   "metadata": {},
   "outputs": [],
   "source": [
    "from sklearn.preprocessing import StandardScaler\n",
    "sc = StandardScaler()\n",
    "X_train = sc.fit_transform(X_train)\n",
    "X_test = sc.transform(X_test)\n"
   ]
  },
  {
   "cell_type": "code",
   "execution_count": 11,
   "metadata": {},
   "outputs": [
    {
     "name": "stdout",
     "output_type": "stream",
     "text": [
      "[[-1.01460667 -0.5698444   1.74309049 ...  0.64259497 -1.03227043\n",
      "   1.10643166]\n",
      " [-1.01460667  1.75486502 -0.57369368 ...  0.64259497  0.9687384\n",
      "  -0.74866447]\n",
      " [ 0.98560362 -0.5698444  -0.57369368 ...  0.64259497 -1.03227043\n",
      "   1.48533467]\n",
      " ...\n",
      " [ 0.98560362 -0.5698444  -0.57369368 ...  0.64259497 -1.03227043\n",
      "   1.41231994]\n",
      " [-1.01460667 -0.5698444   1.74309049 ...  0.64259497  0.9687384\n",
      "   0.84432121]\n",
      " [-1.01460667  1.75486502 -0.57369368 ...  0.64259497 -1.03227043\n",
      "   0.32472465]] [[-1.01460667  1.75486502 -0.57369368 ...  0.64259497  0.9687384\n",
      "   1.61085707]\n",
      " [ 0.98560362 -0.5698444  -0.57369368 ...  0.64259497 -1.03227043\n",
      "   0.49587037]\n",
      " [-1.01460667 -0.5698444   1.74309049 ...  0.64259497  0.9687384\n",
      "  -0.42478674]\n",
      " ...\n",
      " [-1.01460667 -0.5698444   1.74309049 ...  0.64259497 -1.03227043\n",
      "   0.71888467]\n",
      " [-1.01460667  1.75486502 -0.57369368 ...  0.64259497  0.9687384\n",
      "  -1.54507805]\n",
      " [-1.01460667  1.75486502 -0.57369368 ...  0.64259497 -1.03227043\n",
      "   1.61255917]]\n"
     ]
    }
   ],
   "source": [
    "print(X_train,X_test)"
   ]
  },
  {
   "cell_type": "markdown",
   "metadata": {},
   "source": [
    "# Building The ANN"
   ]
  },
  {
   "cell_type": "markdown",
   "metadata": {},
   "source": [
    "## Initializing the ANN"
   ]
  },
  {
   "cell_type": "code",
   "execution_count": 12,
   "metadata": {},
   "outputs": [],
   "source": [
    "ann = tf.keras.models.Sequential()"
   ]
  },
  {
   "cell_type": "markdown",
   "metadata": {},
   "source": [
    "## Adding the input layer and first hidden layer"
   ]
  },
  {
   "cell_type": "code",
   "execution_count": 13,
   "metadata": {},
   "outputs": [],
   "source": [
    "ann.add(tf.keras.layers.Dense(units=6,activation='relu'))"
   ]
  },
  {
   "cell_type": "markdown",
   "metadata": {},
   "source": [
    "## Adding 2nd hidden layer"
   ]
  },
  {
   "cell_type": "code",
   "execution_count": 14,
   "metadata": {},
   "outputs": [],
   "source": [
    "ann.add(tf.keras.layers.Dense(units=6,activation='relu'))"
   ]
  },
  {
   "cell_type": "markdown",
   "metadata": {},
   "source": [
    "## Adding output layer"
   ]
  },
  {
   "cell_type": "code",
   "execution_count": 15,
   "metadata": {},
   "outputs": [],
   "source": [
    "ann.add(tf.keras.layers.Dense(units = 1,activation = 'sigmoid'))"
   ]
  },
  {
   "cell_type": "markdown",
   "metadata": {},
   "source": [
    "# Training the ANN"
   ]
  },
  {
   "cell_type": "markdown",
   "metadata": {},
   "source": [
    "## Compiling the ANN"
   ]
  },
  {
   "cell_type": "code",
   "execution_count": 16,
   "metadata": {},
   "outputs": [],
   "source": [
    "ann.compile(optimizer = 'adam',loss = 'binary_crossentropy',metrics = ['accuracy'])"
   ]
  },
  {
   "cell_type": "markdown",
   "metadata": {},
   "source": [
    "## Training ANN with training set"
   ]
  },
  {
   "cell_type": "code",
   "execution_count": 17,
   "metadata": {},
   "outputs": [
    {
     "name": "stdout",
     "output_type": "stream",
     "text": [
      "Train on 8000 samples\n",
      "Epoch 1/100\n",
      "8000/8000 [==============================] - 1s 160us/sample - loss: 0.5218 - accuracy: 0.7960\n",
      "Epoch 2/100\n",
      "8000/8000 [==============================] - 1s 72us/sample - loss: 0.4622 - accuracy: 0.7960\n",
      "Epoch 3/100\n",
      "8000/8000 [==============================] - 1s 71us/sample - loss: 0.4414 - accuracy: 0.7960\n",
      "Epoch 4/100\n",
      "8000/8000 [==============================] - 1s 69us/sample - loss: 0.4314 - accuracy: 0.7960\n",
      "Epoch 5/100\n",
      "8000/8000 [==============================] - 1s 69us/sample - loss: 0.4250 - accuracy: 0.7990\n",
      "Epoch 6/100\n",
      "8000/8000 [==============================] - 1s 70us/sample - loss: 0.4198 - accuracy: 0.8138\n",
      "Epoch 7/100\n",
      "8000/8000 [==============================] - 1s 78us/sample - loss: 0.4148 - accuracy: 0.8198\n",
      "Epoch 8/100\n",
      "8000/8000 [==============================] - 1s 72us/sample - loss: 0.4087 - accuracy: 0.8211\n",
      "Epoch 9/100\n",
      "8000/8000 [==============================] - 1s 69us/sample - loss: 0.4026 - accuracy: 0.8240\n",
      "Epoch 10/100\n",
      "8000/8000 [==============================] - 1s 71us/sample - loss: 0.3966 - accuracy: 0.8275\n",
      "Epoch 11/100\n",
      "8000/8000 [==============================] - 1s 71us/sample - loss: 0.3915 - accuracy: 0.8325\n",
      "Epoch 12/100\n",
      "8000/8000 [==============================] - 1s 75us/sample - loss: 0.3847 - accuracy: 0.8399\n",
      "Epoch 13/100\n",
      "8000/8000 [==============================] - 1s 70us/sample - loss: 0.3774 - accuracy: 0.8415\n",
      "Epoch 14/100\n",
      "8000/8000 [==============================] - 1s 79us/sample - loss: 0.3725 - accuracy: 0.8449\n",
      "Epoch 15/100\n",
      "8000/8000 [==============================] - 1s 98us/sample - loss: 0.3684 - accuracy: 0.8472\n",
      "Epoch 16/100\n",
      "8000/8000 [==============================] - 1s 96us/sample - loss: 0.3661 - accuracy: 0.8484\n",
      "Epoch 17/100\n",
      "8000/8000 [==============================] - 1s 81us/sample - loss: 0.3636 - accuracy: 0.8491\n",
      "Epoch 18/100\n",
      "8000/8000 [==============================] - 1s 77us/sample - loss: 0.3614 - accuracy: 0.8514\n",
      "Epoch 19/100\n",
      "8000/8000 [==============================] - 1s 72us/sample - loss: 0.3599 - accuracy: 0.8499\n",
      "Epoch 20/100\n",
      "8000/8000 [==============================] - 1s 75us/sample - loss: 0.3593 - accuracy: 0.8526\n",
      "Epoch 21/100\n",
      "8000/8000 [==============================] - 1s 72us/sample - loss: 0.3578 - accuracy: 0.8536\n",
      "Epoch 22/100\n",
      "8000/8000 [==============================] - 1s 70us/sample - loss: 0.3566 - accuracy: 0.8540\n",
      "Epoch 23/100\n",
      "8000/8000 [==============================] - 1s 69us/sample - loss: 0.3558 - accuracy: 0.8541\n",
      "Epoch 24/100\n",
      "8000/8000 [==============================] - 1s 69us/sample - loss: 0.3552 - accuracy: 0.8537\n",
      "Epoch 25/100\n",
      "8000/8000 [==============================] - 1s 69us/sample - loss: 0.3547 - accuracy: 0.8555\n",
      "Epoch 26/100\n",
      "8000/8000 [==============================] - 1s 70us/sample - loss: 0.3542 - accuracy: 0.8536\n",
      "Epoch 27/100\n",
      "8000/8000 [==============================] - 1s 71us/sample - loss: 0.3532 - accuracy: 0.8530\n",
      "Epoch 28/100\n",
      "8000/8000 [==============================] - 1s 73us/sample - loss: 0.3529 - accuracy: 0.8544\n",
      "Epoch 29/100\n",
      "8000/8000 [==============================] - 1s 89us/sample - loss: 0.3522 - accuracy: 0.8565\n",
      "Epoch 30/100\n",
      "8000/8000 [==============================] - 1s 72us/sample - loss: 0.3515 - accuracy: 0.8570\n",
      "Epoch 31/100\n",
      "8000/8000 [==============================] - 1s 74us/sample - loss: 0.3511 - accuracy: 0.8556\n",
      "Epoch 32/100\n",
      "8000/8000 [==============================] - 1s 70us/sample - loss: 0.3505 - accuracy: 0.8575\n",
      "Epoch 33/100\n",
      "8000/8000 [==============================] - 1s 73us/sample - loss: 0.3501 - accuracy: 0.8580\n",
      "Epoch 34/100\n",
      "8000/8000 [==============================] - 1s 74us/sample - loss: 0.3494 - accuracy: 0.8587\n",
      "Epoch 35/100\n",
      "8000/8000 [==============================] - 1s 70us/sample - loss: 0.3490 - accuracy: 0.8583\n",
      "Epoch 36/100\n",
      "8000/8000 [==============================] - 1s 74us/sample - loss: 0.3486 - accuracy: 0.8585\n",
      "Epoch 37/100\n",
      "8000/8000 [==============================] - 1s 78us/sample - loss: 0.3482 - accuracy: 0.8590\n",
      "Epoch 38/100\n",
      "8000/8000 [==============================] - 1s 78us/sample - loss: 0.3476 - accuracy: 0.8579\n",
      "Epoch 39/100\n",
      "8000/8000 [==============================] - 1s 70us/sample - loss: 0.3477 - accuracy: 0.8599\n",
      "Epoch 40/100\n",
      "8000/8000 [==============================] - 1s 77us/sample - loss: 0.3467 - accuracy: 0.8599\n",
      "Epoch 41/100\n",
      "8000/8000 [==============================] - 1s 91us/sample - loss: 0.3469 - accuracy: 0.8593\n",
      "Epoch 42/100\n",
      "8000/8000 [==============================] - 1s 97us/sample - loss: 0.3460 - accuracy: 0.8581\n",
      "Epoch 43/100\n",
      "8000/8000 [==============================] - 1s 89us/sample - loss: 0.3456 - accuracy: 0.8580\n",
      "Epoch 44/100\n",
      "8000/8000 [==============================] - 1s 72us/sample - loss: 0.3453 - accuracy: 0.8599\n",
      "Epoch 45/100\n",
      "8000/8000 [==============================] - 1s 76us/sample - loss: 0.3449 - accuracy: 0.8605\n",
      "Epoch 46/100\n",
      "8000/8000 [==============================] - 1s 87us/sample - loss: 0.3446 - accuracy: 0.8610\n",
      "Epoch 47/100\n",
      "8000/8000 [==============================] - 1s 75us/sample - loss: 0.3443 - accuracy: 0.8591\n",
      "Epoch 48/100\n",
      "8000/8000 [==============================] - 1s 77us/sample - loss: 0.3440 - accuracy: 0.8596\n",
      "Epoch 49/100\n",
      "8000/8000 [==============================] - 1s 82us/sample - loss: 0.3433 - accuracy: 0.8604\n",
      "Epoch 50/100\n",
      "8000/8000 [==============================] - 1s 112us/sample - loss: 0.3433 - accuracy: 0.8591\n",
      "Epoch 51/100\n",
      "8000/8000 [==============================] - 1s 97us/sample - loss: 0.3430 - accuracy: 0.8599\n",
      "Epoch 52/100\n",
      "8000/8000 [==============================] - 1s 74us/sample - loss: 0.3429 - accuracy: 0.8594\n",
      "Epoch 53/100\n",
      "8000/8000 [==============================] - 1s 72us/sample - loss: 0.3422 - accuracy: 0.8591\n",
      "Epoch 54/100\n",
      "8000/8000 [==============================] - 1s 105us/sample - loss: 0.3422 - accuracy: 0.8616\n",
      "Epoch 55/100\n",
      "8000/8000 [==============================] - 1s 112us/sample - loss: 0.3421 - accuracy: 0.8618\n",
      "Epoch 56/100\n",
      "8000/8000 [==============================] - 1s 95us/sample - loss: 0.3415 - accuracy: 0.8606\n",
      "Epoch 57/100\n",
      "8000/8000 [==============================] - 1s 74us/sample - loss: 0.3417 - accuracy: 0.8609\n",
      "Epoch 58/100\n",
      "8000/8000 [==============================] - 1s 81us/sample - loss: 0.3411 - accuracy: 0.8615\n",
      "Epoch 59/100\n",
      "8000/8000 [==============================] - 1s 81us/sample - loss: 0.3409 - accuracy: 0.8611\n",
      "Epoch 60/100\n",
      "8000/8000 [==============================] - 1s 77us/sample - loss: 0.3409 - accuracy: 0.8620\n",
      "Epoch 61/100\n",
      "8000/8000 [==============================] - 1s 75us/sample - loss: 0.3407 - accuracy: 0.8616\n",
      "Epoch 62/100\n",
      "8000/8000 [==============================] - 1s 73us/sample - loss: 0.3403 - accuracy: 0.8614\n",
      "Epoch 63/100\n",
      "8000/8000 [==============================] - 1s 73us/sample - loss: 0.3399 - accuracy: 0.8633\n",
      "Epoch 64/100\n",
      "8000/8000 [==============================] - 1s 87us/sample - loss: 0.3399 - accuracy: 0.8622\n",
      "Epoch 65/100\n",
      "8000/8000 [==============================] - 1s 109us/sample - loss: 0.3398 - accuracy: 0.8618\n",
      "Epoch 66/100\n",
      "8000/8000 [==============================] - 1s 97us/sample - loss: 0.3400 - accuracy: 0.8619\n",
      "Epoch 67/100\n",
      "8000/8000 [==============================] - 1s 85us/sample - loss: 0.3394 - accuracy: 0.8619\n",
      "Epoch 68/100\n",
      "8000/8000 [==============================] - 1s 74us/sample - loss: 0.3393 - accuracy: 0.8624\n",
      "Epoch 69/100\n",
      "8000/8000 [==============================] - 1s 70us/sample - loss: 0.3396 - accuracy: 0.8608\n",
      "Epoch 70/100\n",
      "8000/8000 [==============================] - 1s 72us/sample - loss: 0.3393 - accuracy: 0.8605\n",
      "Epoch 71/100\n",
      "8000/8000 [==============================] - 1s 72us/sample - loss: 0.3392 - accuracy: 0.8619\n",
      "Epoch 72/100\n",
      "8000/8000 [==============================] - 1s 73us/sample - loss: 0.3391 - accuracy: 0.8608\n",
      "Epoch 73/100\n",
      "8000/8000 [==============================] - 1s 72us/sample - loss: 0.3384 - accuracy: 0.8627\n",
      "Epoch 74/100\n",
      "8000/8000 [==============================] - 1s 72us/sample - loss: 0.3389 - accuracy: 0.8620\n",
      "Epoch 75/100\n",
      "8000/8000 [==============================] - 1s 73us/sample - loss: 0.3389 - accuracy: 0.8616\n",
      "Epoch 76/100\n",
      "8000/8000 [==============================] - 1s 73us/sample - loss: 0.3390 - accuracy: 0.8618\n",
      "Epoch 77/100\n"
     ]
    },
    {
     "name": "stdout",
     "output_type": "stream",
     "text": [
      "8000/8000 [==============================] - 1s 74us/sample - loss: 0.3381 - accuracy: 0.8611\n",
      "Epoch 78/100\n",
      "8000/8000 [==============================] - 1s 75us/sample - loss: 0.3381 - accuracy: 0.8621\n",
      "Epoch 79/100\n",
      "8000/8000 [==============================] - 1s 67us/sample - loss: 0.3385 - accuracy: 0.8618\n",
      "Epoch 80/100\n",
      "8000/8000 [==============================] - 1s 73us/sample - loss: 0.3381 - accuracy: 0.8622\n",
      "Epoch 81/100\n",
      "8000/8000 [==============================] - 1s 70us/sample - loss: 0.3382 - accuracy: 0.8630\n",
      "Epoch 82/100\n",
      "8000/8000 [==============================] - 1s 74us/sample - loss: 0.3376 - accuracy: 0.8640\n",
      "Epoch 83/100\n",
      "8000/8000 [==============================] - 1s 69us/sample - loss: 0.3376 - accuracy: 0.8608\n",
      "Epoch 84/100\n",
      "8000/8000 [==============================] - 1s 72us/sample - loss: 0.3375 - accuracy: 0.8624\n",
      "Epoch 85/100\n",
      "8000/8000 [==============================] - 1s 75us/sample - loss: 0.3381 - accuracy: 0.8621\n",
      "Epoch 86/100\n",
      "8000/8000 [==============================] - 1s 76us/sample - loss: 0.3379 - accuracy: 0.8608\n",
      "Epoch 87/100\n",
      "8000/8000 [==============================] - 1s 77us/sample - loss: 0.3378 - accuracy: 0.8612\n",
      "Epoch 88/100\n",
      "8000/8000 [==============================] - 1s 73us/sample - loss: 0.3376 - accuracy: 0.8620\n",
      "Epoch 89/100\n",
      "8000/8000 [==============================] - 1s 74us/sample - loss: 0.3376 - accuracy: 0.8624\n",
      "Epoch 90/100\n",
      "8000/8000 [==============================] - 1s 72us/sample - loss: 0.3380 - accuracy: 0.8619\n",
      "Epoch 91/100\n",
      "8000/8000 [==============================] - 1s 93us/sample - loss: 0.3376 - accuracy: 0.8612\n",
      "Epoch 92/100\n",
      "8000/8000 [==============================] - 1s 98us/sample - loss: 0.3375 - accuracy: 0.8633\n",
      "Epoch 93/100\n",
      "8000/8000 [==============================] - 1s 86us/sample - loss: 0.3374 - accuracy: 0.8619\n",
      "Epoch 94/100\n",
      "8000/8000 [==============================] - 1s 68us/sample - loss: 0.3373 - accuracy: 0.8631\n",
      "Epoch 95/100\n",
      "8000/8000 [==============================] - 1s 72us/sample - loss: 0.3372 - accuracy: 0.8634\n",
      "Epoch 96/100\n",
      "8000/8000 [==============================] - 1s 71us/sample - loss: 0.3373 - accuracy: 0.8625\n",
      "Epoch 97/100\n",
      "8000/8000 [==============================] - 1s 68us/sample - loss: 0.3370 - accuracy: 0.8615\n",
      "Epoch 98/100\n",
      "8000/8000 [==============================] - 1s 68us/sample - loss: 0.3372 - accuracy: 0.8618\n",
      "Epoch 99/100\n",
      "8000/8000 [==============================] - 1s 69us/sample - loss: 0.3369 - accuracy: 0.8608\n",
      "Epoch 100/100\n",
      "8000/8000 [==============================] - 1s 68us/sample - loss: 0.3375 - accuracy: 0.8614\n"
     ]
    },
    {
     "data": {
      "text/plain": [
       "<tensorflow.python.keras.callbacks.History at 0x1f9c59b4148>"
      ]
     },
     "execution_count": 17,
     "metadata": {},
     "output_type": "execute_result"
    }
   ],
   "source": [
    "ann.fit(X_train,y_train,batch_size = 32,epochs = 100)"
   ]
  },
  {
   "cell_type": "markdown",
   "metadata": {},
   "source": [
    "# Prediction"
   ]
  },
  {
   "cell_type": "markdown",
   "metadata": {},
   "source": [
    "## Predicting a random value"
   ]
  },
  {
   "cell_type": "code",
   "execution_count": 18,
   "metadata": {},
   "outputs": [
    {
     "name": "stdout",
     "output_type": "stream",
     "text": [
      "[[False]]\n"
     ]
    }
   ],
   "source": [
    "print(ann.predict(sc.transform([[1,0,0,600,1,40,3,60000,2,1,1,50000]]))>0.5)"
   ]
  },
  {
   "cell_type": "markdown",
   "metadata": {},
   "source": [
    "## Predicting Test set"
   ]
  },
  {
   "cell_type": "code",
   "execution_count": 19,
   "metadata": {},
   "outputs": [
    {
     "name": "stdout",
     "output_type": "stream",
     "text": [
      "[[0 0]\n",
      " [1 0]\n",
      " [0 0]\n",
      " ...\n",
      " [0 0]\n",
      " [0 0]\n",
      " [0 0]]\n"
     ]
    }
   ],
   "source": [
    "y_pred = ann.predict(X_test)\n",
    "y_pred = (y_pred > 0.5)\n",
    "print(np.concatenate((y_test.reshape(len(y_test),1),y_pred.reshape(len(y_pred),1)),1))"
   ]
  },
  {
   "cell_type": "markdown",
   "metadata": {},
   "source": [
    "## Confussion Matrix"
   ]
  },
  {
   "cell_type": "code",
   "execution_count": 20,
   "metadata": {},
   "outputs": [
    {
     "name": "stdout",
     "output_type": "stream",
     "text": [
      "[[1520   75]\n",
      " [ 206  199]]\n"
     ]
    },
    {
     "data": {
      "text/plain": [
       "0.8595"
      ]
     },
     "execution_count": 20,
     "metadata": {},
     "output_type": "execute_result"
    }
   ],
   "source": [
    "from sklearn.metrics import confusion_matrix,accuracy_score\n",
    "cm = confusion_matrix(y_test,y_pred)\n",
    "print(cm)\n",
    "accuracy_score(y_test,y_pred)"
   ]
  }
 ],
 "metadata": {
  "kernelspec": {
   "display_name": "Python 3",
   "language": "python",
   "name": "python3"
  },
  "language_info": {
   "codemirror_mode": {
    "name": "ipython",
    "version": 3
   },
   "file_extension": ".py",
   "mimetype": "text/x-python",
   "name": "python",
   "nbconvert_exporter": "python",
   "pygments_lexer": "ipython3",
   "version": "3.7.7"
  }
 },
 "nbformat": 4,
 "nbformat_minor": 4
}
